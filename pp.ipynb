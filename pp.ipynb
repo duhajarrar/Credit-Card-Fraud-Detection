{
  "nbformat": 4,
  "nbformat_minor": 0,
  "metadata": {
    "colab": {
      "name": "pp.ipynb",
      "provenance": [],
      "collapsed_sections": [],
      "mount_file_id": "1eBlDeki1wDB6QsDPwK717O4SvkeLz5y9",
      "authorship_tag": "ABX9TyMegPWqEaToVW5ljoYil/M8",
      "include_colab_link": true
    },
    "kernelspec": {
      "name": "python3",
      "display_name": "Python 3"
    }
  },
  "cells": [
    {
      "cell_type": "markdown",
      "metadata": {
        "id": "view-in-github",
        "colab_type": "text"
      },
      "source": [
        "<a href=\"https://colab.research.google.com/github/duhajarrar/Credit-Card-Fraud-Detection/blob/master/pp.ipynb\" target=\"_parent\"><img src=\"https://colab.research.google.com/assets/colab-badge.svg\" alt=\"Open In Colab\"/></a>"
      ]
    },
    {
      "cell_type": "code",
      "metadata": {
        "id": "Qcu4Sl1zxBGD",
        "colab_type": "code",
        "colab": {}
      },
      "source": [
        "import pandas as pd\n",
        "import math \n",
        "creditcard=pd.read_csv('/content/drive/My Drive/creditcard.csv')\n"
      ],
      "execution_count": 0,
      "outputs": []
    },
    {
      "cell_type": "code",
      "metadata": {
        "id": "57PYarIYxl5m",
        "colab_type": "code",
        "colab": {
          "base_uri": "https://localhost:8080/",
          "height": 178
        },
        "outputId": "e4953f97-2366-4dc4-88a3-5305246459c0"
      },
      "source": [
        "from collections import Counter\n",
        "from sklearn.model_selection import train_test_split\n",
        "from imblearn.over_sampling import SMOTE\n",
        "\n",
        "xx=creditcard.iloc[:,:-1]\n",
        "yy=creditcard.Class\n",
        "xx_train,xx_test,yy_train,yy_test =\\\n",
        "train_test_split(xx,yy,test_size=0.2,random_state=10)\n",
        "smote1=SMOTE()\n",
        "x_smote_train,y_smote_train=smote1.fit_sample(xx_train,yy_train)\n",
        "print(\"Before balance : \",Counter(yy_train))\n",
        "print(\"After balance : \",Counter(y_smote_train))\n"
      ],
      "execution_count": 6,
      "outputs": [
        {
          "output_type": "stream",
          "text": [
            "/usr/local/lib/python3.6/dist-packages/sklearn/externals/six.py:31: FutureWarning: The module is deprecated in version 0.21 and will be removed in version 0.23 since we've dropped support for Python 2.7. Please rely on the official version of six (https://pypi.org/project/six/).\n",
            "  \"(https://pypi.org/project/six/).\", FutureWarning)\n",
            "/usr/local/lib/python3.6/dist-packages/sklearn/utils/deprecation.py:144: FutureWarning: The sklearn.neighbors.base module is  deprecated in version 0.22 and will be removed in version 0.24. The corresponding classes / functions should instead be imported from sklearn.neighbors. Anything that cannot be imported from sklearn.neighbors is now part of the private API.\n",
            "  warnings.warn(message, FutureWarning)\n",
            "/usr/local/lib/python3.6/dist-packages/sklearn/utils/deprecation.py:87: FutureWarning: Function safe_indexing is deprecated; safe_indexing is deprecated in version 0.22 and will be removed in version 0.24.\n",
            "  warnings.warn(msg, category=FutureWarning)\n"
          ],
          "name": "stderr"
        },
        {
          "output_type": "stream",
          "text": [
            "Before balance :  Counter({0: 227447, 1: 398})\n",
            "After balance :  Counter({0: 227447, 1: 227447})\n"
          ],
          "name": "stdout"
        }
      ]
    },
    {
      "cell_type": "code",
      "metadata": {
        "id": "iSt8wal5ySXn",
        "colab_type": "code",
        "colab": {
          "base_uri": "https://localhost:8080/",
          "height": 52
        },
        "outputId": "3fe8d028-cd50-4e14-b990-98fd12ff214e"
      },
      "source": [
        "## logistic regression\n",
        "from sklearn.linear_model import LogisticRegression\n",
        "model_lr = LogisticRegression()\n",
        "model_lr.fit(x_smote_train,y_smote_train)\n",
        "ACC_train_lr = model_lr.score(x_smote_train,y_smote_train)\n",
        "ACC_test_lr = model_lr.score(xx_test, yy_test)\n",
        "print(ACC_train_lr*100)\n",
        "print(ACC_test_lr*100)"
      ],
      "execution_count": 7,
      "outputs": [
        {
          "output_type": "stream",
          "text": [
            "97.25474506148684\n",
            "97.95477686878972\n"
          ],
          "name": "stdout"
        }
      ]
    },
    {
      "cell_type": "code",
      "metadata": {
        "id": "FTdVnMmSyV91",
        "colab_type": "code",
        "colab": {
          "base_uri": "https://localhost:8080/",
          "height": 52
        },
        "outputId": "19da5b7f-316c-4164-d564-c4a86c33f099"
      },
      "source": [
        "##  Decision tree\n",
        "from sklearn import tree\n",
        "model_dt = tree.DecisionTreeClassifier()\n",
        "model_dt.fit(x_smote_train,y_smote_train)\n",
        "ACC_train_dt = model_dt.score(x_smote_train,y_smote_train)\n",
        "ACC_test_dt = model_dt.score(xx_test,yy_test)\n",
        "print(ACC_train_dt*100)\n",
        "print(ACC_test_dt*100)"
      ],
      "execution_count": 8,
      "outputs": [
        {
          "output_type": "stream",
          "text": [
            "100.0\n",
            "99.78406657069625\n"
          ],
          "name": "stdout"
        }
      ]
    },
    {
      "cell_type": "code",
      "metadata": {
        "id": "6oMZjedKyZ4u",
        "colab_type": "code",
        "colab": {
          "base_uri": "https://localhost:8080/",
          "height": 52
        },
        "outputId": "917f87aa-30c5-4a73-e887-75458e4702d4"
      },
      "source": [
        "## Naive Bayse\n",
        "from sklearn.naive_bayes import GaussianNB\n",
        "model_nb = GaussianNB()\n",
        "model_nb.fit(x_smote_train,y_smote_train)\n",
        "ACC_train_nb = model_nb.score(x_smote_train,y_smote_train)\n",
        "ACC_test_nb = model_nb.score(xx_test,yy_test)\n",
        "print(ACC_train_nb*100)\n",
        "print(ACC_test_nb*100)"
      ],
      "execution_count": 9,
      "outputs": [
        {
          "output_type": "stream",
          "text": [
            "86.66480542719842\n",
            "99.19244408553071\n"
          ],
          "name": "stdout"
        }
      ]
    },
    {
      "cell_type": "code",
      "metadata": {
        "id": "kUjTRU5byefr",
        "colab_type": "code",
        "colab": {}
      },
      "source": [
        "## Support Vector Machine\n",
        "from sklearn.svm import SVC \n",
        "model_svm = SVC()\n",
        "model_svm.fit(x_smote_train,y_smote_train)\n",
        "ACC_train_svm = model_svm.score(x_smote_train,y_smote_train)\n",
        "ACC_test_svm = model_svm.score(xx_test, yy_test)\n",
        "print(ACC_train_svm*100)\n",
        "print(ACC_test_svm*100)\n"
      ],
      "execution_count": 0,
      "outputs": []
    },
    {
      "cell_type": "code",
      "metadata": {
        "id": "sq9unvf3yid1",
        "colab_type": "code",
        "colab": {}
      },
      "source": [
        "## Random Forest \n",
        "from sklearn.ensemble import RandomForestClassifier \n",
        "model_rf = RandomForestClassifier()\n",
        "model_rf.fit(x_smote_train,y_smote_train)\n",
        "ACC_train_rf = model_rf.score(x_smote_train,y_smote_train)\n",
        "ACC_test_rf = model_rf.score(xx_test, yy_test)\n",
        "print(ACC_train_rf*100)\n",
        "print(ACC_test_rf*100)"
      ],
      "execution_count": 0,
      "outputs": []
    },
    {
      "cell_type": "code",
      "metadata": {
        "id": "loYO1OXaykfY",
        "colab_type": "code",
        "colab": {}
      },
      "source": [
        "from prettytable import PrettyTable\n",
        "t = PrettyTable(['Accuracy', 'Logistic (%)' , 'DT (%)' , 'SVM (%)' , 'RF (%)' , 'NB (%)'])\n",
        "t.add_row(['Training', ACC_train_lr*100, ACC_train_dt*100, ACC_train_svm*100, ACC_train_rf*100 , ACC_train_nb*100])\n",
        "t.add_row(['Testing', ACC_test_lr*100, ACC_test_dt*100, ACC_test_svm*100, ACC_test_rf*100 , ACC_test_nb*100])\n",
        "print(t)"
      ],
      "execution_count": 0,
      "outputs": []
    },
    {
      "cell_type": "code",
      "metadata": {
        "id": "u9pVgYdOyr1k",
        "colab_type": "code",
        "colab": {}
      },
      "source": [
        "# use differant performance metric on DT\n",
        "lr_pred = model_lr.predict(xx_test)\n",
        "dt_pred = model_dt.predict(xx_test)\n",
        "svm_pred = model_svm.predict(xx_test)\n",
        "rf_pred = model_rf.predict(xx_test)\n",
        "nb_pred = model_nb.predict(xx_test)"
      ],
      "execution_count": 0,
      "outputs": []
    },
    {
      "cell_type": "code",
      "metadata": {
        "id": "KwivwF5ByuMp",
        "colab_type": "code",
        "colab": {}
      },
      "source": [
        "from sklearn.metrics import accuracy_score\n",
        "lr_accuracy_score=  accuracy_score(yy_test, lr_pred)\n",
        "dt_accuracy_score=  accuracy_score(yy_test, dt_pred)\n",
        "svm_accuracy_score=  accuracy_score(yy_test, svm_pred)\n",
        "rf_accuracy_score=  accuracy_score(yy_test, rf_pred)\n",
        "nb_accuracy_score=  accuracy_score(yy_test, nb_pred)\n",
        "\n",
        "from sklearn.metrics import f1_score\n",
        "# f1 score : F1 score reaches its best value at 1 and worst score at 0\n",
        "lr_f1_score= f1_score(yy_test, lr_pred)\n",
        "dt_f1_score= f1_score(yy_test, dt_pred)\n",
        "svm_f1_score= f1_score(yy_test, svm_pred)\n",
        "rf_f1_score= f1_score(yy_test, rf_pred)\n",
        "nb_f1_score= f1_score(yy_test, nb_pred)\n",
        "\n",
        "from sklearn.metrics import recall_score\n",
        "# recall score : The best value is 1 and the worst value is 0\n",
        "lr_recall_score= recall_score(yy_test, lr_pred)\n",
        "dt_recall_score= recall_score(yy_test, dt_pred)\n",
        "svm_recall_score= recall_score(yy_test, svm_pred)\n",
        "rf_recall_score= recall_score(yy_test, rf_pred)\n",
        "nb_recall_score= recall_score(yy_test, nb_pred)"
      ],
      "execution_count": 0,
      "outputs": []
    },
    {
      "cell_type": "code",
      "metadata": {
        "id": "R8qpRKvkyzGc",
        "colab_type": "code",
        "colab": {}
      },
      "source": [
        "from prettytable import PrettyTable\n",
        "t2 = PrettyTable(['Accuracy', 'Logistic (%)' , 'DT (%)' , 'SVM (%)' , 'RF (%)' , 'NB (%)'])\n",
        "t2.add_row(['accuracy_score', lr_accuracy_score*100, dt_accuracy_score*100, svm_accuracy_score*100, rf_accuracy_score*100 , nb_accuracy_score*100])\n",
        "t2.add_row(['f1_score',       lr_f1_score*100      , dt_f1_score*100      , svm_f1_score*100       , rf_f1_score*100       , nb_f1_score*100]      )\n",
        "t2.add_row(['recall_score',   lr_recall_score*100  , dt_recall_score*100  , svm_recall_score*100  , rf_recall_score*100   , nb_recall_score*100]  )\n",
        "print(t2)"
      ],
      "execution_count": 0,
      "outputs": []
    }
  ]
}